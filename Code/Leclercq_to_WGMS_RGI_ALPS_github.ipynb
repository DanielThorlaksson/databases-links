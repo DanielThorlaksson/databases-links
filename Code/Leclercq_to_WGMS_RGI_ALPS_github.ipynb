{
 "cells": [
  {
   "cell_type": "markdown",
   "metadata": {},
   "source": [
    "# Modules"
   ]
  },
  {
   "cell_type": "code",
   "execution_count": null,
   "metadata": {
    "collapsed": false
   },
   "outputs": [],
   "source": [
    "import warnings\n",
    "warnings.filterwarnings('ignore')\n",
    "import pandas as pd\n",
    "import geopandas as gpd\n",
    "import os\n",
    "import numpy as np\n",
    "import shapely.geometry as shpg\n",
    "import matplotlib.pyplot as plt\n",
    "from matplotlib import cm as colormap\n",
    "import shapely.ops\n",
    "from salem import datasets\n",
    "from cleo import Map\n",
    "from matplotlib.backends.backend_pdf import PdfPages\n",
    "%pylab inline"
   ]
  },
  {
   "cell_type": "markdown",
   "metadata": {},
   "source": [
    "# Files"
   ]
  },
  {
   "cell_type": "code",
   "execution_count": null,
   "metadata": {
    "collapsed": false
   },
   "outputs": [],
   "source": [
    "wgms_dir = '..\\\\DOI-WGMS-FoG-2014-09'\n",
    "output_dir = '..\\\\LECLERCQ_LINKS'\n",
    "f_A = os.path.join(wgms_dir, 'WGMS-FoG-2014-09-A-GENERAL-INFORMATION.csv')\n",
    "f_EE = os.path.join(wgms_dir, 'WGMS-FoG-2014-09-EE-MASS-BALANCE.csv')\n",
    "f_lec_prop = '..\\\\glacier_properties.txt'\n",
    "rgi_dir = '..\\\\rgi50\\\\11_rgi50_CentralEurope'\n",
    "f_rgi = os.path.join(rgi_dir, '11_rgi50_CentralEurope.shp')"
   ]
  },
  {
   "cell_type": "markdown",
   "metadata": {},
   "source": [
    "# Haversine function"
   ]
  },
  {
   "cell_type": "code",
   "execution_count": null,
   "metadata": {
    "collapsed": true
   },
   "outputs": [],
   "source": [
    "def haversine(lon1, lat1, lon2, lat2):\n",
    "    \"\"\"\n",
    "    Calculate the great circle distance between one point \n",
    "    on the earth and an array of points (specified in decimal degrees)\n",
    "    \"\"\"\n",
    "    \n",
    "    # convert decimal degrees to radians \n",
    "    lon1, lat1, lon2, lat2 = map(np.radians, [lon1, lat1, lon2, lat2])\n",
    "\n",
    "    # haversine formula \n",
    "    dlon = lon2 - lon1\n",
    "    dlat = lat2 - lat1\n",
    "    a = np.sin(dlat/2)**2 + np.cos(lat1) * np.cos(lat2) * np.sin(dlon/2)**2\n",
    "    c = 2 * np.arcsin(np.sqrt(a)) \n",
    "    r = 6371000 # Radius of earth in meters\n",
    "    return c * r"
   ]
  },
  {
   "cell_type": "markdown",
   "metadata": {},
   "source": [
    "# Read files"
   ]
  },
  {
   "cell_type": "code",
   "execution_count": null,
   "metadata": {
    "collapsed": false
   },
   "outputs": [],
   "source": [
    "pda = pd.read_csv(f_A, encoding='iso8859_15')\n",
    "pda.head(1)"
   ]
  },
  {
   "cell_type": "code",
   "execution_count": null,
   "metadata": {
    "collapsed": false
   },
   "outputs": [],
   "source": [
    "pdee = pd.read_csv(f_EE, encoding='iso8859_15')\n",
    "pdee.head(1)"
   ]
  },
  {
   "cell_type": "code",
   "execution_count": null,
   "metadata": {
    "collapsed": false
   },
   "outputs": [],
   "source": [
    "lec = pd.read_csv(f_lec_prop, sep='\\t', na_values='-99999')\n",
    "lec = lec.rename(columns=lambda x: x.strip())\n",
    "lec.head(1)"
   ]
  },
  {
   "cell_type": "code",
   "execution_count": null,
   "metadata": {
    "collapsed": false
   },
   "outputs": [],
   "source": [
    "pdrgi = gpd.read_file(f_rgi)\n",
    "pdrgi.head(1)"
   ]
  },
  {
   "cell_type": "markdown",
   "metadata": {},
   "source": [
    "# Preselection of Leclercq IDs by lat/lon rectangle"
   ]
  },
  {
   "cell_type": "code",
   "execution_count": null,
   "metadata": {
    "collapsed": true
   },
   "outputs": [],
   "source": [
    "lon_range = [0, 20]\n",
    "lat_range = [40, 50]"
   ]
  },
  {
   "cell_type": "code",
   "execution_count": null,
   "metadata": {
    "collapsed": false
   },
   "outputs": [],
   "source": [
    "alps_ids = lec[(lec.lon >= lon_range[0]) & (lec.lon <= lon_range[1]) &\n",
    "               (lec.lat >= lat_range[0]) & (lec.lat <= lat_range[1])].ID.values"
   ]
  },
  {
   "cell_type": "code",
   "execution_count": null,
   "metadata": {
    "collapsed": false
   },
   "outputs": [],
   "source": [
    "alps_ids"
   ]
  },
  {
   "cell_type": "markdown",
   "metadata": {},
   "source": [
    "# Create an overview plot with ALL glaciers"
   ]
  },
  {
   "cell_type": "code",
   "execution_count": null,
   "metadata": {
    "collapsed": false
   },
   "outputs": [],
   "source": [
    "curr = 1  # current plot\n",
    "total = len(alps_ids)  # total number of plots ()\n",
    "\n",
    "dummyline = plt.Line2D((0,1),(0,0), color='w', linewidth=0, linestyle='')  # for dummy 'category' entry\n",
    "\n",
    "with PdfPages(os.path.join(output_dir, 'Leclercq_Glaciers_Alps_ALL.pdf')) as pdf:\n",
    "    for gid in alps_ids:\n",
    "        glacier = lec[lec.ID == gid].iloc[0]\n",
    "        lon, lat = glacier.lon, glacier.lat\n",
    "        pdrgi['DIST'] = haversine(lon, lat, pdrgi.CenLon.values, pdrgi.CenLat.values)\n",
    "        pda['DIST'] = haversine(lon, lat, pda.LONGITUDE.values, pda.LATITUDE.values)\n",
    "        \n",
    "        sortrgi = pdrgi.sort(columns='DIST')\n",
    "        sortpda = pda.sort(columns='DIST')\n",
    "        \n",
    "        # For GoogleMap we need a lon lat range to generate the map\n",
    "        mmlon = [lon, lon]\n",
    "        mmlat = [lat, lat]\n",
    "        \n",
    "        for i in np.arange(0,5):\n",
    "            rgig = sortrgi.iloc[i]\n",
    "            pdag = sortpda.iloc[i]\n",
    "            # In case the glacier is a MultiPolygon we account for this here:\n",
    "            if rgig.geometry.type == 'Polygon':\n",
    "                x, y = rgig.geometry.exterior.xy\n",
    "            elif rgig.geometry.type == 'MultiPolygon':\n",
    "                # buffer is necessary as some multi-polygons are self-intersecting\n",
    "                allparts = [p.buffer(0) for p in rgig.geometry] \n",
    "                rgig.geometry = shapely.ops.cascaded_union(allparts)\n",
    "                x, y = rgig.geometry.exterior.xy\n",
    "            \n",
    "            # extend map extent by RGI geometries\n",
    "            mmlon = [np.min(np.append(mmlon, x)), np.max(np.append(mmlon, x))]\n",
    "            mmlat = [np.min(np.append(mmlat, y)), np.max(np.append(mmlat, y))]\n",
    "            \n",
    "            # extend map by WGMS lat/lon (in case they are outside the bounds)\n",
    "            mmlon = [np.min(np.append(mmlon, pdag.LONGITUDE)), np.max(np.append(mmlon, pdag.LONGITUDE))]\n",
    "            mmlat = [np.min(np.append(mmlat, pdag.LATITUDE)), np.max(np.append(mmlat, pdag.LATITUDE))]\n",
    "        \n",
    "        # Make a local map where to plot the polygons\n",
    "        local = datasets.GoogleVisibleMap(x=mmlon, y=mmlat) # also possible:  maptype='terrain'\n",
    "        local_map = Map(local.grid, countries=False, nx=640)\n",
    "        local_map.set_lonlat_countours()\n",
    "        \n",
    "        \n",
    "        # Prepare the figure\n",
    "        fig, (ax1, ax2) = plt.subplots(1, 2, figsize=(14, 5))\n",
    "        ax1.set_title('WGMS: ' + str(sortpda.iloc[0].WGMS_ID) + '-' + sortpda.iloc[0].POLITICAL_UNIT + '-' + \n",
    "                      sortpda.iloc[0].NAME + ' --- LEC: ' + str(gid) + ', ' +str(glacier['name']) +', '+ \n",
    "                      glacier['area (km2)']+'km2') # 'glacier['name']' is absolutley necessary this way, otherwise Python gets confused with glacier.Name (despite case sensitivity!)\n",
    "        ax2.set_title(\"Smallest Haversine distance: %.2f m\" % (haversine(lon, lat, sortrgi.iloc[0].CenLon, sortrgi.iloc[0].CenLat)))\n",
    "\n",
    "        # Plot glaciers\n",
    "        colors = ['red', 'orange', 'green', 'blue', 'purple', 'magenta']\n",
    "        for i in np.arange(0,5):\n",
    "            rgig = sortrgi.iloc[i]\n",
    "            pdag = sortpda.iloc[i]\n",
    "            # In case the glacier is a MultiPolygon we account for this here:\n",
    "            if rgig.geometry.type == 'Polygon':\n",
    "                x, y = rgig.geometry.exterior.xy\n",
    "            elif rgig.geometry.type == 'MultiPolygon':\n",
    "                # buffer is necessary as some multi-polygons are self-intersecting\n",
    "                allparts = [p.buffer(0) for p in rgig.geometry] \n",
    "                rgig.geometry = shapely.ops.cascaded_union(allparts)\n",
    "                x, y = rgig.geometry.exterior.xy\n",
    "            \n",
    "            #  print centroid of matching RGIglacier\n",
    "            if i == 0:\n",
    "                # Plot the RGI point\n",
    "                local_map.set_geometry(shpg.Point(rgig.CenLon, rgig.CenLat), edgecolor='k', marker='x', linewidth=4, markersize=100, zorder=50, text='RGI')\n",
    "                # Plot the WGMS point\n",
    "                local_map.set_geometry(shpg.Point(pdag.LONGITUDE, pdag.LATITUDE), color='g', marker='x', linewidth=4, markersize=100, zorder=50, text='WGMS')\n",
    "            \n",
    "            # RGI polygon label\n",
    "            if rgig.Name == None:\n",
    "                plabel =  str(rgig.RGIId)+'\\n'+str(rgig.Area)+'km2'\n",
    "            else:\n",
    "                plabel =  str(rgig.RGIId)+'\\n'+str(rgig.Area)+'km2\\n'+str(rgig.Name)\n",
    "            \n",
    "            local_map.set_geometry(rgig.geometry.exterior, color=colors[i], linewidth=3, label=plabel) #adjusted for RGI 5.0\n",
    "        # Plot the Leclercq Point\n",
    "        local_map.set_geometry(shpg.Point(lon, lat), c='k', marker='x', linewidth=4, markersize=100, zorder=51, text='LEC') #again adjusted fpr RGI 5.0\n",
    "        \n",
    "        \n",
    "        local_map.set_rgb(local.get_vardata())\n",
    "        local_map.visualize(ax=ax1, addcbar=False)\n",
    "\n",
    "        local = datasets.GoogleVisibleMap(x=mmlon, y=mmlat, maptype='terrain')\n",
    "        local_map.set_rgb(local.get_vardata())\n",
    "        local_map.visualize(ax=ax2, addcbar=False)\n",
    "        plt.subplots_adjust(left=0.04, right=0.80, top=0.94, bottom=0.07)\n",
    "        handles, labels = ax1.get_legend_handles_labels()\n",
    "        plt.legend(bbox_to_anchor=(1.02, 1.), fontsize=18, loc=2, borderaxespad=0, frameon=False, numpoints=1, scatterpoints=1)\n",
    "        \n",
    "        pdf.savefig(fig)\n",
    "        plt.close()\n",
    "        \n",
    "        if curr % 5 == 0:\n",
    "            print \"%s / %s plots done.\" % (curr, total)\n",
    "        curr += 1"
   ]
  },
  {
   "cell_type": "markdown",
   "metadata": {},
   "source": [
    "# Try an automated linking to WGMS and RGI"
   ]
  },
  {
   "cell_type": "code",
   "execution_count": null,
   "metadata": {
    "collapsed": false
   },
   "outputs": [],
   "source": [
    "manual_links = lec.copy()\n",
    "manual_links = manual_links[manual_links.ID.isin(alps_ids)]\n",
    "manual_links['WGMS_ID'] = np.nan\n",
    "manual_links['RGI_ID'] = np.nan\n",
    "\n",
    "for gid in alps_ids:\n",
    "    glacier = lec[lec.ID == gid].iloc[0]\n",
    "    lon, lat = glacier.lon, glacier.lat\n",
    "    pdrgi['DIST'] = haversine(lon, lat, pdrgi.CenLon.values, pdrgi.CenLat.values)\n",
    "    pda['DIST'] = haversine(lon, lat, pda.LONGITUDE.values, pda.LATITUDE.values)\n",
    "\n",
    "    sortrgi = pdrgi.sort(columns='DIST')\n",
    "    sortpda = pda.sort(columns='DIST')\n",
    "\n",
    "    rgig = sortrgi.iloc[0]\n",
    "    pdag = sortpda.iloc[0]\n",
    "    # In case the glacier is a MultiPolygon we account for this here:\n",
    "    if rgig.geometry.type == 'Polygon':\n",
    "        x, y = rgig.geometry.exterior.xy\n",
    "    elif rgig.geometry.type == 'MultiPolygon':\n",
    "        # buffer is necessary as some multi-polygons are self-intersecting\n",
    "        allparts = [p.buffer(0) for p in rgig.geometry] \n",
    "        rgig.geometry = shapely.ops.cascaded_union(allparts)\n",
    "        x, y = rgig.geometry.exterior.xy\n",
    "    \n",
    "    manual_links.WGMS_ID[manual_links.ID == gid] = pdag.WGMS_ID\n",
    "    print gid, pdag.WGMS_ID, manual_links[manual_links.ID == gid].WGMS_ID\n",
    "    manual_links.RGI_ID[manual_links.ID == gid] = rgig.RGIId\n",
    "        \n",
    "manual_links.to_csv(os.path.join(output_dir,'Automated_links_Leclercq_to_RGI_WGMS_ALPS.csv'))"
   ]
  }
 ],
 "metadata": {
  "kernelspec": {
   "display_name": "Python 2",
   "language": "python",
   "name": "python2"
  },
  "language_info": {
   "codemirror_mode": {
    "name": "ipython",
    "version": 2
   },
   "file_extension": ".py",
   "mimetype": "text/x-python",
   "name": "python",
   "nbconvert_exporter": "python",
   "pygments_lexer": "ipython2",
   "version": "2.7.11"
  }
 },
 "nbformat": 4,
 "nbformat_minor": 0
}
